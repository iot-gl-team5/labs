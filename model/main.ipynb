{
 "cells": [
  {
   "cell_type": "code",
   "execution_count": null,
   "metadata": {},
   "outputs": [],
   "source": [
    "import keras\n",
    "from keras.models import Sequential\n",
    "from keras import layers\n",
    "import keras.backend as K\n",
    "import tensorflow as tf\n",
    "import numpy as np\n",
    "import os\n",
    "import sys\n",
    "import pandas as pd\n",
    "import matplotlib.pyplot as plt\n",
    "import random\n"
   ]
  },
  {
   "cell_type": "code",
   "execution_count": null,
   "metadata": {},
   "outputs": [],
   "source": [
    "import tensorflow as tf\n",
    "\n",
    "gpus = tf.config.list_physical_devices('GPU')\n",
    "print(gpus)\n"
   ]
  },
  {
   "cell_type": "code",
   "execution_count": null,
   "metadata": {},
   "outputs": [],
   "source": [
    "df = pd.read_csv('data/accelerometer.csv', delimiter=',')\n",
    "df.drop(columns=['x', 'y'], inplace=True)\n",
    "df"
   ]
  },
  {
   "cell_type": "code",
   "execution_count": null,
   "metadata": {},
   "outputs": [],
   "source": [
    "plt.figure(figsize=(20, 6))\n",
    "plt.plot(df['z'])\n",
    "plt.xlabel('Index')\n",
    "plt.ylabel('z')\n",
    "plt.title('Plot of z values')\n",
    "plt.show()\n"
   ]
  },
  {
   "cell_type": "code",
   "execution_count": null,
   "metadata": {},
   "outputs": [],
   "source": [
    "df_dataset = pd.DataFrame()\n",
    "\n",
    "row_size = 20\n",
    "increment = 1\n",
    "\n",
    "for i in range(0, len(df)-row_size, increment):\n",
    "    df_dataset = pd.concat([df_dataset, df[i:i+row_size].reset_index(drop=True).T])\n",
    "\n",
    "df_dataset = df_dataset.reset_index(drop=True)\n",
    "df_dataset"
   ]
  },
  {
   "cell_type": "code",
   "execution_count": null,
   "metadata": {},
   "outputs": [],
   "source": [
    "def add_diff_data(df):\n",
    "    df_diff = pd.DataFrame()\n",
    "\n",
    "    for _, row in df.iterrows():\n",
    "        col_to_col_max_diff = np.float64(sys.float_info.min)\n",
    "\n",
    "        general_max_diff = row.max() - row.min()\n",
    "\n",
    "        count = 0\n",
    "        for col in row:\n",
    "            if str(col).isdigit():\n",
    "                count += 1\n",
    "\n",
    "        for col in range(1, count-1, 1):\n",
    "            abs_diff = abs(row[col] - row[col-1])\n",
    "            col_to_col_max_diff = np.max([col_to_col_max_diff, abs_diff])\n",
    "\n",
    "        df_diff = pd.concat([df_diff, pd.DataFrame({'col_to_col_max_diff': [col_to_col_max_diff], 'general_max_diff': [general_max_diff]})])\n",
    "\n",
    "    df_diff.reset_index(drop=True, inplace=True)\n",
    "\n",
    "    df['col_to_col_max_diff'] = df_diff['col_to_col_max_diff']\n",
    "    df['general_max_diff'] = df_diff['general_max_diff']\n",
    "\n",
    "add_diff_data(df_dataset)\n",
    "df_dataset\n"
   ]
  },
  {
   "cell_type": "code",
   "execution_count": null,
   "metadata": {},
   "outputs": [],
   "source": [
    "plt.figure(figsize=(20, 6))\n",
    "plt.plot(df['z'], label='z')\n",
    "plt.plot(df_dataset['col_to_col_max_diff'], label='col_to_col_max_diff')\n",
    "#plt.plot(df_dataset['general_max_diff'], label='general_max_diff')\n",
    "plt.xlabel('Index')\n",
    "plt.ylabel('Value')\n",
    "plt.title('Plot of z, col_to_col_max_diff, and general_max_diff')\n",
    "plt.legend()\n",
    "plt.show()\n"
   ]
  },
  {
   "cell_type": "code",
   "execution_count": null,
   "metadata": {},
   "outputs": [],
   "source": [
    "min = df_dataset['col_to_col_max_diff'].min()\n",
    "max = df_dataset['col_to_col_max_diff'].max()\n",
    "parts = 100\n",
    "\n",
    "bins = np.linspace(min, max, parts)\n",
    "labels = range(1, parts)\n",
    "\n",
    "# Create the histogram\n",
    "plt.figure(figsize=(10, 6))\n",
    "plt.hist(df_dataset['col_to_col_max_diff'], bins=bins, edgecolor='black')\n",
    "plt.xlabel('col_to_col_max_diff')\n",
    "plt.ylabel('Frequency')\n",
    "plt.title('Distribution of col_to_col_max_diff')\n",
    "plt.show()\n"
   ]
  },
  {
   "cell_type": "code",
   "execution_count": null,
   "metadata": {},
   "outputs": [],
   "source": [
    "def mark_data(df):\n",
    "    def assign_mark(row):\n",
    "        if row['col_to_col_max_diff'] < 3000:\n",
    "            return 'good'\n",
    "        elif row['col_to_col_max_diff'] < 6000:\n",
    "            return 'small pits'\n",
    "        else:\n",
    "            return 'large pits'\n",
    "\n",
    "    def assign_nn_answer(row):\n",
    "        if row['road_state'] == 'good':\n",
    "            return 0\n",
    "        elif row['road_state'] == 'small pits':\n",
    "            return 1\n",
    "        else:\n",
    "            return 2\n",
    "\n",
    "    df['road_state'] = df.apply(assign_mark, axis=1)\n",
    "    df['nn_answer'] = df.apply(assign_nn_answer, axis=1)\n",
    "\n",
    "\n",
    "mark_data(df_dataset)\n",
    "df_dataset\n"
   ]
  },
  {
   "cell_type": "code",
   "execution_count": null,
   "metadata": {},
   "outputs": [],
   "source": [
    "import os\n",
    "\n",
    "os.environ['TF_GPU_ALLOCATOR'] = 'cuda_malloc_async'\n",
    "\n",
    "num_classes = len(df_dataset['road_state'].unique())\n",
    "\n",
    "print(row_size, num_classes)\n",
    "\n",
    "model = Sequential([\n",
    "    layers.Input(shape=(row_size,)),\n",
    "    layers.Dense(4, activation='tanh'),\n",
    "    layers.Dense(num_classes, activation='softmax'),\n",
    "])\n",
    "\n",
    "model.compile(optimizer='adam', loss='sparse_categorical_crossentropy', metrics=['accuracy', 'categorical_accuracy'])\n",
    "\n",
    "\n",
    "model.summary()"
   ]
  },
  {
   "cell_type": "code",
   "execution_count": null,
   "metadata": {},
   "outputs": [],
   "source": [
    "from sklearn.model_selection import train_test_split\n",
    "from sklearn.preprocessing import MinMaxScaler\n",
    "\n",
    "X_data = df_dataset.iloc[:, :row_size].values.astype(float)\n",
    "Y_data = np.array(df_dataset['nn_answer'].tolist()).reshape(-1, 1).astype(float)\n",
    "\n",
    "print(X_data[0])\n",
    "print(np.unique(Y_data))\n",
    "\n",
    "train_input, test_input, train_output, test_output = train_test_split(X_data, Y_data, test_size=0.2, random_state=19191, shuffle=True)\n",
    "\n",
    "print(train_input.shape)\n",
    "print(train_output.shape)\n",
    "print(test_input.shape)\n",
    "print(test_output.shape)\n"
   ]
  },
  {
   "cell_type": "code",
   "execution_count": null,
   "metadata": {},
   "outputs": [],
   "source": [
    "history = model.fit(train_input, train_output, epochs=50, batch_size=30, validation_data=(test_input, test_output))\n"
   ]
  },
  {
   "cell_type": "code",
   "execution_count": null,
   "metadata": {},
   "outputs": [],
   "source": [
    "model.save('../edge/model/model.h5')"
   ]
  },
  {
   "cell_type": "code",
   "execution_count": null,
   "metadata": {},
   "outputs": [],
   "source": [
    "plt.plot(history.history['accuracy'], label='accuracy')\n",
    "plt.plot(history.history['val_accuracy'], label = 'val_accuracy')\n",
    "plt.xlabel('Epoch')\n",
    "plt.ylabel('Accuracy')\n",
    "plt.ylim([0, 1])\n",
    "plt.legend(loc='lower right')\n",
    "plt.show()"
   ]
  },
  {
   "cell_type": "code",
   "execution_count": null,
   "metadata": {},
   "outputs": [],
   "source": [
    "def predict(input):\n",
    "    results = model.predict(input)\n",
    "    res = results[0]\n",
    "    #res = np.where(res == np.max(res), 1, 0)\n",
    "    return res\n",
    "\n",
    "\n",
    "user_input = np.array([16516, 16546, 16535, 16533, 16516, 16516, 16549, 16516, 16537, 16544, 16533, 16541, 16551, 16545, 16552, 16525, 16546, 16533, 16753, 16565])\n",
    "user_input = user_input.reshape(1, -1)\n",
    "print(predict(user_input))\n",
    "\n",
    "user_input_shifted = np.array([16546, 16535, 16533, 16516, 16549, 16549, 16549, 16537, 16544, 16533, 16541, 16551, 16545, 16552, 16525, 16546, 16533, 16753, 16565, 16516])\n",
    "user_input_shifted += 64000\n",
    "user_input_shifted = user_input_shifted.reshape(1, -1)\n",
    "print(predict(user_input_shifted))"
   ]
  }
 ],
 "metadata": {
  "kernelspec": {
   "display_name": "my_venv",
   "language": "python",
   "name": "python3"
  },
  "language_info": {
   "codemirror_mode": {
    "name": "ipython",
    "version": 3
   },
   "file_extension": ".py",
   "mimetype": "text/x-python",
   "name": "python",
   "nbconvert_exporter": "python",
   "pygments_lexer": "ipython3",
   "version": "3.11.2"
  }
 },
 "nbformat": 4,
 "nbformat_minor": 2
}
